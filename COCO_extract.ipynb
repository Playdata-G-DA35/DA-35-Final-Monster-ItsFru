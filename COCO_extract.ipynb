{
 "cells": [
  {
   "cell_type": "code",
   "execution_count": 1,
   "metadata": {},
   "outputs": [
    {
     "name": "stdout",
     "output_type": "stream",
     "text": [
      "Requirement already satisfied: pycocotools in /Users/patrick/Documents/final_project/monster_env/lib/python3.12/site-packages (2.0.8)\n",
      "Requirement already satisfied: matplotlib>=2.1.0 in /Users/patrick/Documents/final_project/monster_env/lib/python3.12/site-packages (from pycocotools) (3.9.1)\n",
      "Requirement already satisfied: numpy in /Users/patrick/Documents/final_project/monster_env/lib/python3.12/site-packages (from pycocotools) (2.0.1)\n",
      "Requirement already satisfied: contourpy>=1.0.1 in /Users/patrick/Documents/final_project/monster_env/lib/python3.12/site-packages (from matplotlib>=2.1.0->pycocotools) (1.2.1)\n",
      "Requirement already satisfied: cycler>=0.10 in /Users/patrick/Documents/final_project/monster_env/lib/python3.12/site-packages (from matplotlib>=2.1.0->pycocotools) (0.12.1)\n",
      "Requirement already satisfied: fonttools>=4.22.0 in /Users/patrick/Documents/final_project/monster_env/lib/python3.12/site-packages (from matplotlib>=2.1.0->pycocotools) (4.53.1)\n",
      "Requirement already satisfied: kiwisolver>=1.3.1 in /Users/patrick/Documents/final_project/monster_env/lib/python3.12/site-packages (from matplotlib>=2.1.0->pycocotools) (1.4.5)\n",
      "Requirement already satisfied: packaging>=20.0 in /Users/patrick/Documents/final_project/monster_env/lib/python3.12/site-packages (from matplotlib>=2.1.0->pycocotools) (24.1)\n",
      "Requirement already satisfied: pillow>=8 in /Users/patrick/Documents/final_project/monster_env/lib/python3.12/site-packages (from matplotlib>=2.1.0->pycocotools) (10.4.0)\n",
      "Requirement already satisfied: pyparsing>=2.3.1 in /Users/patrick/Documents/final_project/monster_env/lib/python3.12/site-packages (from matplotlib>=2.1.0->pycocotools) (3.1.2)\n",
      "Requirement already satisfied: python-dateutil>=2.7 in /Users/patrick/Documents/final_project/monster_env/lib/python3.12/site-packages (from matplotlib>=2.1.0->pycocotools) (2.9.0.post0)\n",
      "Requirement already satisfied: six>=1.5 in /Users/patrick/Documents/final_project/monster_env/lib/python3.12/site-packages (from python-dateutil>=2.7->matplotlib>=2.1.0->pycocotools) (1.16.0)\n",
      "Note: you may need to restart the kernel to use updated packages.\n"
     ]
    }
   ],
   "source": [
    "%pip install pycocotools"
   ]
  },
  {
   "cell_type": "code",
   "execution_count": 5,
   "metadata": {},
   "outputs": [
    {
     "name": "stdout",
     "output_type": "stream",
     "text": [
      "loading annotations into memory...\n",
      "Done (t=0.39s)\n",
      "creating index...\n",
      "index created!\n"
     ]
    }
   ],
   "source": [
    "import os\n",
    "import json\n",
    "from pycocotools.coco import COCO\n",
    "import cv2\n",
    "from matplotlib import pyplot as plt\n",
    "\n",
    "\n",
    "# 경로 설정\n",
    "image_dir = r'/Users/patrick/Documents/final_project/ImageNet/val2017'\n",
    "annotation_file = r'/Users/patrick/Documents/final_project/ImageNet/annotations/instances_val2017.json'\n",
    "output_dir = './output'\n",
    "\n",
    "if not os.path.exists(output_dir):\n",
    "    os.makedirs(output_dir)\n",
    "\n",
    "\n",
    "def extract_coco_data(image_dir, annotation_file, output_dir):\n",
    "    # COCO 데이터셋 로드\n",
    "    coco = COCO(annotation_file)\n",
    "    #print(coco)\n",
    "    # 모든 이미지 ID 가져오기\n",
    "    image_ids = coco.getImgIds()\n",
    "    #print(image_ids)\n",
    "    # 이미지와 객체 정보 저장할 딕셔너리\n",
    "    data = []\n",
    "    \n",
    "    # 모든 이미지에 대해 반복\n",
    "    for img_id in image_ids:\n",
    "        img_info = coco.loadImgs(img_id)[0]\n",
    "        img_file = os.path.join(image_dir, img_info['file_name'])\n",
    "        \n",
    "        # 이미지 읽기\n",
    "        image = cv2.imread(img_file)\n",
    "        if image is None:\n",
    "            print(\"not\\n\")\n",
    "            continue\n",
    "        \n",
    "        # 이미지의 객체들 가져오기\n",
    "        ann_ids = coco.getAnnIds(imgIds=img_info['id'])\n",
    "        anns = coco.loadAnns(ann_ids)\n",
    "        \n",
    "        # 객체 정보 저장할 리스트\n",
    "        objects = []\n",
    "        for ann in anns:\n",
    "            bbox = ann['bbox']\n",
    "            category_id = ann['category_id']\n",
    "            category_name = coco.loadCats(category_id)[0]['name']\n",
    "            objects.append({category_name: bbox})\n",
    "        \n",
    "        # 데이터 저장\n",
    "        data.append({\n",
    "            'image_id': img_info['id'],\n",
    "            'file_name': img_info['file_name'],\n",
    "            'objects': objects\n",
    "        })\n",
    "        \n",
    "        # # 이미지와 객체 정보 시각화 (옵션)\n",
    "        # for obj in objects:\n",
    "        #     for label, bbox in obj.items():\n",
    "        #         x, y, w, h = bbox\n",
    "        #         cv2.rectangle(image, (int(x), int(y)), (int(x+w), int(y+h)), (255, 0, 0), 2)\n",
    "        #         cv2.putText(image, label, (int(x), int(y) - 10), cv2.FONT_HERSHEY_SIMPLEX, 0.9, (36,255,12), 2)\n",
    "        \n",
    "        # plt.imshow(cv2.cvtColor(image, cv2.COLOR_BGR2RGB))\n",
    "        # plt.show()\n",
    "    \n",
    "    # 결과 JSON 파일로 저장\n",
    "    with open(os.path.join(output_dir, 'coco_data.json'), 'w') as f:\n",
    "        json.dump(data, f, indent=4)\n",
    "\n",
    "\n",
    "# 함수 실행\n",
    "extract_coco_data(image_dir, annotation_file, output_dir)"
   ]
  },
  {
   "cell_type": "code",
   "execution_count": null,
   "metadata": {},
   "outputs": [],
   "source": []
  }
 ],
 "metadata": {
  "kernelspec": {
   "display_name": "env",
   "language": "python",
   "name": "python3"
  },
  "language_info": {
   "codemirror_mode": {
    "name": "ipython",
    "version": 3
   },
   "file_extension": ".py",
   "mimetype": "text/x-python",
   "name": "python",
   "nbconvert_exporter": "python",
   "pygments_lexer": "ipython3",
   "version": "3.12.3"
  }
 },
 "nbformat": 4,
 "nbformat_minor": 2
}
