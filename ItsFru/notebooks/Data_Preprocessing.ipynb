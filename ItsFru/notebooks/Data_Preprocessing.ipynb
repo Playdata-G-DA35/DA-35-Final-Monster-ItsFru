{
 "cells": [
  {
   "cell_type": "code",
   "execution_count": 5,
   "metadata": {},
   "outputs": [
    {
     "name": "stdout",
     "output_type": "stream",
     "text": [
      "Requirement already satisfied: ultralytics in c:\\classes\\final_project\\env\\lib\\site-packages (8.2.63)\n",
      "Requirement already satisfied: split-folders in c:\\classes\\final_project\\env\\lib\\site-packages (0.5.1)\n",
      "Requirement already satisfied: numpy<2.0.0,>=1.23.0 in c:\\classes\\final_project\\env\\lib\\site-packages (from ultralytics) (1.26.4)\n",
      "Requirement already satisfied: matplotlib>=3.3.0 in c:\\classes\\final_project\\env\\lib\\site-packages (from ultralytics) (3.9.1)\n",
      "Requirement already satisfied: opencv-python>=4.6.0 in c:\\classes\\final_project\\env\\lib\\site-packages (from ultralytics) (4.10.0.84)\n",
      "Requirement already satisfied: pillow>=7.1.2 in c:\\classes\\final_project\\env\\lib\\site-packages (from ultralytics) (10.4.0)\n",
      "Requirement already satisfied: pyyaml>=5.3.1 in c:\\classes\\final_project\\env\\lib\\site-packages (from ultralytics) (6.0.1)\n",
      "Requirement already satisfied: requests>=2.23.0 in c:\\classes\\final_project\\env\\lib\\site-packages (from ultralytics) (2.31.0)\n",
      "Requirement already satisfied: scipy>=1.4.1 in c:\\classes\\final_project\\env\\lib\\site-packages (from ultralytics) (1.14.0)\n",
      "Requirement already satisfied: torch>=1.8.0 in c:\\classes\\final_project\\env\\lib\\site-packages (from ultralytics) (2.3.1)\n",
      "Requirement already satisfied: torchvision>=0.9.0 in c:\\classes\\final_project\\env\\lib\\site-packages (from ultralytics) (0.18.1)\n",
      "Requirement already satisfied: tqdm>=4.64.0 in c:\\classes\\final_project\\env\\lib\\site-packages (from ultralytics) (4.65.2)\n",
      "Requirement already satisfied: psutil in c:\\classes\\final_project\\env\\lib\\site-packages (from ultralytics) (6.0.0)\n",
      "Requirement already satisfied: py-cpuinfo in c:\\classes\\final_project\\env\\lib\\site-packages (from ultralytics) (9.0.0)\n",
      "Requirement already satisfied: pandas>=1.1.4 in c:\\classes\\final_project\\env\\lib\\site-packages (from ultralytics) (2.2.2)\n",
      "Requirement already satisfied: seaborn>=0.11.0 in c:\\classes\\final_project\\env\\lib\\site-packages (from ultralytics) (0.13.2)\n",
      "Requirement already satisfied: ultralytics-thop>=2.0.0 in c:\\classes\\final_project\\env\\lib\\site-packages (from ultralytics) (2.0.0)\n",
      "Requirement already satisfied: contourpy>=1.0.1 in c:\\classes\\final_project\\env\\lib\\site-packages (from matplotlib>=3.3.0->ultralytics) (1.2.1)\n",
      "Requirement already satisfied: cycler>=0.10 in c:\\classes\\final_project\\env\\lib\\site-packages (from matplotlib>=3.3.0->ultralytics) (0.12.1)\n",
      "Requirement already satisfied: fonttools>=4.22.0 in c:\\classes\\final_project\\env\\lib\\site-packages (from matplotlib>=3.3.0->ultralytics) (4.53.1)\n",
      "Requirement already satisfied: kiwisolver>=1.3.1 in c:\\classes\\final_project\\env\\lib\\site-packages (from matplotlib>=3.3.0->ultralytics) (1.4.5)\n",
      "Requirement already satisfied: packaging>=20.0 in c:\\classes\\final_project\\env\\lib\\site-packages (from matplotlib>=3.3.0->ultralytics) (24.1)\n",
      "Requirement already satisfied: pyparsing>=2.3.1 in c:\\classes\\final_project\\env\\lib\\site-packages (from matplotlib>=3.3.0->ultralytics) (3.1.2)\n",
      "Requirement already satisfied: python-dateutil>=2.7 in c:\\classes\\final_project\\env\\lib\\site-packages (from matplotlib>=3.3.0->ultralytics) (2.9.0.post0)\n",
      "Requirement already satisfied: pytz>=2020.1 in c:\\classes\\final_project\\env\\lib\\site-packages (from pandas>=1.1.4->ultralytics) (2023.4)\n",
      "Requirement already satisfied: tzdata>=2022.7 in c:\\classes\\final_project\\env\\lib\\site-packages (from pandas>=1.1.4->ultralytics) (2024.1)\n",
      "Requirement already satisfied: charset-normalizer<4,>=2 in c:\\classes\\final_project\\env\\lib\\site-packages (from requests>=2.23.0->ultralytics) (3.3.2)\n",
      "Requirement already satisfied: idna<4,>=2.5 in c:\\classes\\final_project\\env\\lib\\site-packages (from requests>=2.23.0->ultralytics) (3.7)\n",
      "Requirement already satisfied: urllib3<3,>=1.21.1 in c:\\classes\\final_project\\env\\lib\\site-packages (from requests>=2.23.0->ultralytics) (1.26.19)\n",
      "Requirement already satisfied: certifi>=2017.4.17 in c:\\classes\\final_project\\env\\lib\\site-packages (from requests>=2.23.0->ultralytics) (2024.7.4)\n",
      "Requirement already satisfied: filelock in c:\\classes\\final_project\\env\\lib\\site-packages (from torch>=1.8.0->ultralytics) (3.15.4)\n",
      "Requirement already satisfied: typing-extensions>=4.8.0 in c:\\classes\\final_project\\env\\lib\\site-packages (from torch>=1.8.0->ultralytics) (4.12.2)\n",
      "Requirement already satisfied: sympy in c:\\classes\\final_project\\env\\lib\\site-packages (from torch>=1.8.0->ultralytics) (1.13.2)\n",
      "Requirement already satisfied: networkx in c:\\classes\\final_project\\env\\lib\\site-packages (from torch>=1.8.0->ultralytics) (3.3)\n",
      "Requirement already satisfied: jinja2 in c:\\classes\\final_project\\env\\lib\\site-packages (from torch>=1.8.0->ultralytics) (3.1.4)\n",
      "Requirement already satisfied: fsspec in c:\\classes\\final_project\\env\\lib\\site-packages (from torch>=1.8.0->ultralytics) (2024.6.1)\n",
      "Requirement already satisfied: mkl<=2021.4.0,>=2021.1.1 in c:\\classes\\final_project\\env\\lib\\site-packages (from torch>=1.8.0->ultralytics) (2021.4.0)\n",
      "Requirement already satisfied: colorama in c:\\classes\\final_project\\env\\lib\\site-packages (from tqdm>=4.64.0->ultralytics) (0.4.6)\n",
      "Requirement already satisfied: intel-openmp==2021.* in c:\\classes\\final_project\\env\\lib\\site-packages (from mkl<=2021.4.0,>=2021.1.1->torch>=1.8.0->ultralytics) (2021.4.0)\n",
      "Requirement already satisfied: tbb==2021.* in c:\\classes\\final_project\\env\\lib\\site-packages (from mkl<=2021.4.0,>=2021.1.1->torch>=1.8.0->ultralytics) (2021.13.0)\n",
      "Requirement already satisfied: six>=1.5 in c:\\classes\\final_project\\env\\lib\\site-packages (from python-dateutil>=2.7->matplotlib>=3.3.0->ultralytics) (1.16.0)\n",
      "Requirement already satisfied: MarkupSafe>=2.0 in c:\\classes\\final_project\\env\\lib\\site-packages (from jinja2->torch>=1.8.0->ultralytics) (2.1.5)\n",
      "Requirement already satisfied: mpmath<1.4,>=1.1.0 in c:\\classes\\final_project\\env\\lib\\site-packages (from sympy->torch>=1.8.0->ultralytics) (1.3.0)\n"
     ]
    },
    {
     "name": "stderr",
     "output_type": "stream",
     "text": [
      "WARNING: Ignoring invalid distribution ~ip (C:\\classes\\FINAL_PROJECT\\env\\Lib\\site-packages)\n",
      "WARNING: Ignoring invalid distribution ~ip (C:\\classes\\FINAL_PROJECT\\env\\Lib\\site-packages)\n",
      "WARNING: Ignoring invalid distribution ~ip (C:\\classes\\FINAL_PROJECT\\env\\Lib\\site-packages)\n"
     ]
    }
   ],
   "source": [
    "!pip install ultralytics split-folders"
   ]
  },
  {
   "cell_type": "markdown",
   "metadata": {},
   "source": [
    "# AIHUB 과일 데이터\n",
    "## 어노테이션용 모델 학습\n",
    "- Validset에서 이미지 3600장 층화추출(수동)\n",
    "- 640x640 리사이즈\n",
    "- Roboflow로 증강\n",
    "- 파인튜닝\n"
   ]
  },
  {
   "cell_type": "code",
   "execution_count": 6,
   "metadata": {},
   "outputs": [],
   "source": [
    "# 이미지 리사이즈 전처리 \n",
    "from modules.preprocess_image import resize_and_save_images\n",
    "\n",
    "base_folder = 'C:\\FINAL_PROJECT\\DATA\\AIhub_Fruit\\원본데이터\\01.데이터'\n",
    "resize_and_save_images(base_folder)"
   ]
  },
  {
   "cell_type": "code",
   "execution_count": null,
   "metadata": {},
   "outputs": [],
   "source": [
    "# 어노테이션용 모델 파인튜닝 \n",
    "## Colab에서 실행 \n",
    "\n",
    "from ultralytics import YOLO\n",
    "\n",
    "model = YOLO(\"models/yolov8m-seg.pt\") # fine tuning할 대상 모델파일 경로.\n",
    "model.train(\n",
    "    data = r\"/content/drive/MyDrive/Data/roboflow_augmented/data.yaml\",\n",
    "    epochs=100,\n",
    "    patience=25,   # early stopping 설정. (patience epoch 동안 성능 개선이 안되면 학습 조기중단)\n",
    "    batch=32,       #batch size (256 이하 - 메모리가 허용하는 크기.)\n",
    "    imgsz=640,    # 입력 이미지 크기 (default: 640 - YOLO가 학습한 이미지의 크기.)\n",
    "    optimizer=\"AdamW\",\n",
    "    lr0=0.0005,\n",
    "    lrf=0.2\n",
    "    # resume=True # 이어서 학습\n",
    ")"
   ]
  },
  {
   "cell_type": "markdown",
   "metadata": {},
   "source": [
    "## 학습 데이터 어노테이션\n",
    "\n",
    "- Train set 전체 이미지(대봉감 제외) 확인\n",
    "- 어노테이션 생성 "
   ]
  },
  {
   "cell_type": "code",
   "execution_count": null,
   "metadata": {},
   "outputs": [
    {
     "data": {
      "text/plain": [
       "78323"
      ]
     },
     "execution_count": 1,
     "metadata": {},
     "output_type": "execute_result"
    }
   ],
   "source": [
    "# 이미지 확인\n",
    "import glob\n",
    "import os\n",
    "\n",
    "imgdir =r'C:\\FINAL_PROJECT\\DATA\\AIhub_Fruit\\images'\n",
    "imgs=glob.glob(os.path.join(imgdir,'**/*.png'),recursive=True)\n",
    "len(imgs) # persimmon_daebong 대봉감 삭제 후 78323"
   ]
  },
  {
   "cell_type": "code",
   "execution_count": null,
   "metadata": {},
   "outputs": [],
   "source": [
    "# 어노테이션 생성  및 딕셔너리 저장 \n",
    "from modules.create_ann import create_ann\n",
    "from ultralytics import YOLO\n",
    "\n",
    "imgdir =r'C:\\FINAL_PROJECT\\DATA\\AIhub_Fruit\\images'\n",
    "output_dir = r'C:\\FINAL_PROJECT\\DATA\\AIhub_Fruit\\annotations'\n",
    "ann_model =r\"C:\\FINAL_PROJECT\\models\\train\\weights\\best.pt\"\n",
    "model = YOLO(ann_model)\n",
    "\n",
    "create_ann(imgdir, output_dir, model,'train',5)"
   ]
  },
  {
   "cell_type": "markdown",
   "metadata": {},
   "source": [
    "## Train / Valid 분리\n",
    "```\n",
    "split/\n",
    "├── images/\n",
    "│   ├── train/\n",
    "│   │   └── .png ...\n",
    "│   └── val/\n",
    "│       └── .png ...\n",
    "└── annotations/\n",
    "    ├── train/\n",
    "    │   └── .txt ...\n",
    "    └── val/\n",
    "        └── .txt...\n",
    "```"
   ]
  },
  {
   "cell_type": "code",
   "execution_count": null,
   "metadata": {},
   "outputs": [],
   "source": [
    "import os\n",
    "from modules.split import split_images_and_annotations\n",
    "\n",
    "# 원본 디렉토리\n",
    "input_dir = r'C:\\FINAL_PROJECT\\DATA\\AIhub_Fruit'\n",
    "output_dir = r'C:\\FINAL_PROJECT\\DATA\\AIhub_Fruit\\split'\n",
    "\n",
    "# 어노테이션 폴더 경로\n",
    "annotations_folder = os.path.join(input_dir, 'annotations')\n",
    "\n",
    "# 이미지와 어노테이션 파일을 분할하여 각각의 폴더에 저장\n",
    "split_images_and_annotations(input_dir, output_dir, annotations_folder)\n"
   ]
  },
  {
   "cell_type": "markdown",
   "metadata": {},
   "source": [
    "## 이미지 전처리  \n",
    "- 랜덤배경 피클 생성 및 저장\n",
    "- 과일 + 랜덤배경 합성"
   ]
  },
  {
   "cell_type": "code",
   "execution_count": null,
   "metadata": {},
   "outputs": [],
   "source": [
    "# 랜덤 배경 피클 생성 및 저장 \n",
    "from modules.random_background import generate_random_backgrounds\n",
    "\n",
    "img_dir = r\"C:\\classes\\FINAL_PROJECT\\Data\\background\\from_coco_test\" # 400장 추출 \n",
    "bgr_pkl_path = r\"C:\\classes\\FINAL_PROJECT\\output\"\n",
    "generate_random_backgrounds(img_dir, bgr_pkl_path, num_backgrounds=1000, target_size= 640)"
   ]
  },
  {
   "cell_type": "code",
   "execution_count": null,
   "metadata": {},
   "outputs": [],
   "source": [
    "# 과일 랜덤 배경 합성\n",
    "from modules.add_background import add_background\n",
    "\n",
    "img_dir = r\"C:\\FINAL_PROJECT\\DATA\\AIhub_Fruit\\split\\images\"\n",
    "output_dir = r\"C:\\FINAL_PROJECT\\DATA\\AIhub_Fruit\\with_background\"\n",
    "bgr_pkl_path = r\"output/random_background.pkl\"\n",
    "\n",
    "add_background(img_dir, output_dir, bgr_pkl_path)\n"
   ]
  },
  {
   "cell_type": "markdown",
   "metadata": {},
   "source": [
    "# 기타\n",
    "## 손 데이터\n",
    "- 크롭, 리사이즈(640x640)\n"
   ]
  },
  {
   "cell_type": "code",
   "execution_count": null,
   "metadata": {},
   "outputs": [],
   "source": [
    "# 손 데이터 정사각형으로 크롭 후 저장\n",
    "from modules.preprocess_image import crop_and_save_images\n",
    "\n",
    "img_dir = r\"C:\\classes\\FINAL_PROJECT\\Data\\AIHUB_hand\"\n",
    "output_dir = r\"C:\\classes\\FINAL_PROJECT\\Data\\hand_cropped\"\n",
    "\n",
    "crop_and_save_images(img_dir, output_dir)\n"
   ]
  },
  {
   "cell_type": "markdown",
   "metadata": {},
   "source": [
    "## 클래스 id 수정 \n",
    "- Roboflow 증강 후 클래스 id 변경 오류 => 수정\n",
    "  "
   ]
  },
  {
   "cell_type": "code",
   "execution_count": null,
   "metadata": {},
   "outputs": [],
   "source": [
    "from modules.correct_cls_id import correct_cls_id\n",
    "\n",
    "## 어노테이션 파일에서 클래스 아이디 수정 \n",
    "ann_dir = r\"C:\\classes\\FINAL_PROJECT\\Data\\AIHUB_Fruit\\1.Training\\Final_Data_Augmented\\hand.v5i.yolov8\\train\\labels\"\n",
    "correct_cls_id(ann_dir)\n"
   ]
  }
 ],
 "metadata": {
  "kernelspec": {
   "display_name": "env",
   "language": "python",
   "name": "python3"
  },
  "language_info": {
   "codemirror_mode": {
    "name": "ipython",
    "version": 3
   },
   "file_extension": ".py",
   "mimetype": "text/x-python",
   "name": "python",
   "nbconvert_exporter": "python",
   "pygments_lexer": "ipython3",
   "version": "3.11.8"
  }
 },
 "nbformat": 4,
 "nbformat_minor": 2
}
